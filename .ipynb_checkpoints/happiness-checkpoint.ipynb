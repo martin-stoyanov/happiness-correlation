{
 "cells": [
  {
   "cell_type": "code",
   "execution_count": 18,
   "metadata": {},
   "outputs": [],
   "source": [
    "import numpy as np\n",
    "import pandas as pd\n",
    "from functools import reduce"
   ]
  },
  {
   "cell_type": "code",
   "execution_count": 43,
   "metadata": {},
   "outputs": [
    {
     "data": {
      "text/plain": [
       "149"
      ]
     },
     "execution_count": 43,
     "metadata": {},
     "output_type": "execute_result"
    }
   ],
   "source": [
    "# getting data\n",
    "happiness_data = pd.read_csv(\"./datasets/world_happiness_2017.csv\")\n",
    "human_development_data = pd.read_csv(\"./datasets/hdi.csv\")\n",
    "corruption_data = pd.read_csv(\"./datasets/corruption_ratings_2018.csv\")\n",
    "co2_emissions_data = pd.read_csv(\"./datasets/co2_emissions.csv\")\n",
    "gdp_cap_data = pd.read_csv(\"./datasets/gdp_cap_ppp.csv\")\n",
    "\n",
    "# countries that have data in all datasets\n",
    "common_countries = list(reduce(set.intersection, map(set, [happiness_data.Country, human_development_data.Country, \n",
    "                                            corruption_data.Country, co2_emissions_data.Country, gdp_cap_data.Country \n",
    "                                           ])))\n",
    "len(c)"
   ]
  },
  {
   "cell_type": "code",
   "execution_count": null,
   "metadata": {},
   "outputs": [],
   "source": []
  }
 ],
 "metadata": {
  "kernelspec": {
   "display_name": "Python 3",
   "language": "python",
   "name": "python3"
  },
  "language_info": {
   "codemirror_mode": {
    "name": "ipython",
    "version": 3
   },
   "file_extension": ".py",
   "mimetype": "text/x-python",
   "name": "python",
   "nbconvert_exporter": "python",
   "pygments_lexer": "ipython3",
   "version": "3.7.1"
  }
 },
 "nbformat": 4,
 "nbformat_minor": 2
}
