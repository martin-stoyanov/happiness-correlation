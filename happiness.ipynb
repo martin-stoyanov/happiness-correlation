{
 "cells": [
  {
   "cell_type": "code",
   "execution_count": 6,
   "metadata": {},
   "outputs": [],
   "source": [
    "import numpy as np\n",
    "import pandas as pd\n",
    "from functools import reduce"
   ]
  },
  {
   "cell_type": "code",
   "execution_count": 7,
   "metadata": {},
   "outputs": [],
   "source": [
    "# getting data\n",
    "happiness_data = pd.read_csv(\"./datasets/world_happiness_2017.csv\")\n",
    "human_development_data = pd.read_csv(\"./datasets/hdi.csv\")\n",
    "corruption_data = pd.read_csv(\"./datasets/corruption_ratings_2018.csv\")\n",
    "co2_emissions_data = pd.read_csv(\"./datasets/co2_emissions.csv\")\n",
    "gdp_cap_data = pd.read_csv(\"./datasets/gdp_cap_ppp.csv\")"
   ]
  },
  {
   "cell_type": "markdown",
   "metadata": {},
   "source": [
    "<h4>Goal:</h4>\n",
    "\n",
    "Find what metrics best predict a country's happiness. There’s a dataset from a [Gallup World Poll](https://www.kaggle.com/unsdsn/world-happiness#2017.csv) showing self-reported happiness in over 150 countries, and I want to find what metrics, for example HDI data, CO2 emissions, etc. best predict the country's happiness.\n",
    "\n",
    "<h4>Data preprocessing:</h4>\n",
    "\n",
    "One thing I had to consider was each dataset could have different names for different countries. For example, Russia was called \"Russian Federation\" in the human development dataset, but was simply called \"Russia\" in the world happiness dataset. So, I had to find which countries had different names and manually match their names in all the datasets. <br><br>\n",
    "The method I used for this was basically the opposite of the code two cells below, where I found common countries in all datasets: I found what countries were NOT common across all datasets and checked if any of these countries were the same, just with different names, and changed those country names across all datasets so they matched."
   ]
  },
  {
   "cell_type": "code",
   "execution_count": 8,
   "metadata": {},
   "outputs": [
    {
     "name": "stdout",
     "output_type": "stream",
     "text": [
      "Examples of the data that'll be used: \n",
      "\n",
      "       Country  Happiness_Score\n",
      "0       Norway            7.537\n",
      "1      Denmark            7.522\n",
      "2      Iceland            7.504\n",
      "3  Switzerland            7.494\n",
      "4      Finland            7.469\n",
      "\n",
      "\n",
      "       Country  CPI Score 2018\n",
      "0      Denmark              88\n",
      "1  New Zealand              87\n",
      "2      Finland              85\n",
      "3    Singapore              85\n",
      "4       Sweden              85\n"
     ]
    }
   ],
   "source": [
    "print(\"Examples of the data that'll be used: \\n\")\n",
    "print(happiness_data[[\"Country\", \"Happiness_Score\"]].head())\n",
    "print(\"\\n\")\n",
    "print(corruption_data[[\"Country\", \"CPI Score 2018\"]].head())"
   ]
  },
  {
   "cell_type": "markdown",
   "metadata": {},
   "source": [
    "Below, I'm finding countries that are in all the datasets, since I'll only be using those countries for the project. I used an opposite method of this to find what countries had different names across datasets (i.e. \"Russia\" vs \"Russian Federation\") so I could match them"
   ]
  },
  {
   "cell_type": "code",
   "execution_count": 9,
   "metadata": {},
   "outputs": [
    {
     "name": "stdout",
     "output_type": "stream",
     "text": [
      "149\n"
     ]
    }
   ],
   "source": [
    "# countries that are in all the datasets\n",
    "common_countries = list(reduce(set.intersection, map(set, [happiness_data.Country, human_development_data.Country, \n",
    "                                            corruption_data.Country, co2_emissions_data.Country, gdp_cap_data.Country \n",
    "                                           ])))\n",
    "print(len(common_countries))"
   ]
  },
  {
   "cell_type": "code",
   "execution_count": 23,
   "metadata": {},
   "outputs": [
    {
     "name": "stdout",
     "output_type": "stream",
     "text": [
      "[]\n"
     ]
    }
   ],
   "source": [
    "def in_common_countries(dataset):\n",
    "    for country in dataset:\n",
    "        if (country in common_countries):\n",
    "            return True\n",
    "        else:\n",
    "            return False\n",
    "    #print(dataset)\n",
    "    \n",
    "    #return list(filter(lambda x: x[\"Country\"] in common_countries, dataset))\n",
    "\n",
    "a = list(filter(in_common_countries, human_development_data))\n",
    "\n",
    "\n",
    "#for country in common_countries:\n",
    "print(a)"
   ]
  },
  {
   "cell_type": "code",
   "execution_count": 86,
   "metadata": {},
   "outputs": [
    {
     "data": {
      "text/html": [
       "<div>\n",
       "<style scoped>\n",
       "    .dataframe tbody tr th:only-of-type {\n",
       "        vertical-align: middle;\n",
       "    }\n",
       "\n",
       "    .dataframe tbody tr th {\n",
       "        vertical-align: top;\n",
       "    }\n",
       "\n",
       "    .dataframe thead th {\n",
       "        text-align: right;\n",
       "    }\n",
       "</style>\n",
       "<table border=\"1\" class=\"dataframe\">\n",
       "  <thead>\n",
       "    <tr style=\"text-align: right;\">\n",
       "      <th></th>\n",
       "      <th>Country</th>\n",
       "      <th>happiness</th>\n",
       "      <th>corruption</th>\n",
       "      <th>human_development</th>\n",
       "      <th>co2_emissions</th>\n",
       "      <th>gdp_cap</th>\n",
       "    </tr>\n",
       "  </thead>\n",
       "  <tbody>\n",
       "    <tr>\n",
       "      <th>0</th>\n",
       "      <td>Cyprus</td>\n",
       "      <td>7.537</td>\n",
       "      <td>0.299445</td>\n",
       "      <td>0.498</td>\n",
       "      <td>0.299445</td>\n",
       "      <td>1972.178018</td>\n",
       "    </tr>\n",
       "    <tr>\n",
       "      <th>1</th>\n",
       "      <td>Cameroon</td>\n",
       "      <td>7.522</td>\n",
       "      <td>1.291328</td>\n",
       "      <td>0.785</td>\n",
       "      <td>1.291328</td>\n",
       "      <td>6643.754972</td>\n",
       "    </tr>\n",
       "    <tr>\n",
       "      <th>2</th>\n",
       "      <td>Libya</td>\n",
       "      <td>7.504</td>\n",
       "      <td>1.978763</td>\n",
       "      <td>0.754</td>\n",
       "      <td>1.978763</td>\n",
       "      <td>12943.460705</td>\n",
       "    </tr>\n",
       "    <tr>\n",
       "      <th>3</th>\n",
       "      <td>Liberia</td>\n",
       "      <td>7.494</td>\n",
       "      <td>23.302023</td>\n",
       "      <td>0.581</td>\n",
       "      <td>23.302023</td>\n",
       "      <td>73878.467665</td>\n",
       "    </tr>\n",
       "    <tr>\n",
       "      <th>4</th>\n",
       "      <td>Afghanistan</td>\n",
       "      <td>7.469</td>\n",
       "      <td>4.746797</td>\n",
       "      <td>0.825</td>\n",
       "      <td>4.746797</td>\n",
       "      <td>20784.768311</td>\n",
       "    </tr>\n",
       "  </tbody>\n",
       "</table>\n",
       "</div>"
      ],
      "text/plain": [
       "       Country  happiness  corruption  human_development  co2_emissions  \\\n",
       "0       Cyprus      7.537    0.299445              0.498       0.299445   \n",
       "1     Cameroon      7.522    1.291328              0.785       1.291328   \n",
       "2        Libya      7.504    1.978763              0.754       1.978763   \n",
       "3      Liberia      7.494   23.302023              0.581      23.302023   \n",
       "4  Afghanistan      7.469    4.746797              0.825       4.746797   \n",
       "\n",
       "        gdp_cap  \n",
       "0   1972.178018  \n",
       "1   6643.754972  \n",
       "2  12943.460705  \n",
       "3  73878.467665  \n",
       "4  20784.768311  "
      ]
     },
     "execution_count": 86,
     "metadata": {},
     "output_type": "execute_result"
    }
   ],
   "source": [
    "data = pd.DataFrame({'Country': common_countries})\n",
    "data[\"happiness\"] = pd.DataFrame([ c for c in happiness_data.itertuples() if c.Country in common_countries])[\"Happiness_Score\"]\n",
    "data[\"corruption\"] = pd.DataFrame([ c for c in co2_emissions_data.itertuples() if c.Country in common_countries])[\"_2\"]\n",
    "data[\"human_development\"] = pd.DataFrame([ c for c in human_development_data.itertuples() if c.Country in common_countries])[\"_4\"]\n",
    "data[\"co2_emissions\"] = pd.DataFrame([ c for c in co2_emissions_data.itertuples() if c.Country in common_countries])[\"_2\"]\n",
    "data[\"gdp_cap\"] = pd.DataFrame([ c for c in gdp_cap_data.itertuples() if c.Country in common_countries])[\"_2\"]\n",
    "\n",
    "data.head()\n"
   ]
  },
  {
   "cell_type": "code",
   "execution_count": null,
   "metadata": {},
   "outputs": [],
   "source": []
  },
  {
   "cell_type": "code",
   "execution_count": null,
   "metadata": {},
   "outputs": [],
   "source": []
  }
 ],
 "metadata": {
  "kernelspec": {
   "display_name": "Python 3",
   "language": "python",
   "name": "python3"
  },
  "language_info": {
   "codemirror_mode": {
    "name": "ipython",
    "version": 3
   },
   "file_extension": ".py",
   "mimetype": "text/x-python",
   "name": "python",
   "nbconvert_exporter": "python",
   "pygments_lexer": "ipython3",
   "version": "3.7.1"
  }
 },
 "nbformat": 4,
 "nbformat_minor": 2
}
