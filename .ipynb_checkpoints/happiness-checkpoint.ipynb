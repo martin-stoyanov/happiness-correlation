{
 "cells": [
  {
   "cell_type": "code",
   "execution_count": 219,
   "metadata": {},
   "outputs": [],
   "source": [
    "import numpy as np\n",
    "import pandas as pd\n",
    "import matplotlib.pyplot as plt\n",
    "from functools import reduce\n",
    "import seaborn as sns\n",
    "from sklearn import preprocessing"
   ]
  },
  {
   "cell_type": "code",
   "execution_count": 220,
   "metadata": {},
   "outputs": [],
   "source": [
    "# getting data\n",
    "happiness_data = pd.read_csv(\"./datasets/world_happiness_2017.csv\")\n",
    "human_development_data = pd.read_csv(\"./datasets/hdi_2017.csv\")\n",
    "corruption_data = pd.read_csv(\"./datasets/corruption_ratings_2018.csv\")\n",
    "co2_emissions_data = pd.read_csv(\"./datasets/co2_emissions_2014.csv\")\n",
    "gdp_cap_data = pd.read_csv(\"./datasets/gdp_cap_ppp_2017.csv\")"
   ]
  },
  {
   "cell_type": "markdown",
   "metadata": {},
   "source": [
    "<h4>Goal:</h4>\n",
    "\n",
    "Find what metrics best predict a country's happiness. There’s a dataset from a [Gallup World Poll](https://www.kaggle.com/unsdsn/world-happiness#2017.csv) showing self-reported happiness in over 150 countries, and I want to find what metrics, for example HDI data, CO2 emissions, etc. best predict the country's happiness.\n",
    "\n",
    "<h4>Data preprocessing:</h4>\n",
    "\n",
    "One thing I had to consider was each dataset could have different names for different countries. For example, Russia was called \"Russian Federation\" in the human development dataset, but was simply called \"Russia\" in the world happiness dataset. So, I had to find which countries had different names and manually match their names in all the datasets. <br><br>\n",
    "The method I used for this was basically the opposite of the code two cells below, where I found common countries in all datasets: I found what countries were NOT common across all datasets and checked if any of these countries were the same, just with different names, and changed those country names across all datasets so they matched."
   ]
  },
  {
   "cell_type": "code",
   "execution_count": 221,
   "metadata": {},
   "outputs": [
    {
     "name": "stdout",
     "output_type": "stream",
     "text": [
      "Examples of the data that'll be used: \n",
      "\n",
      "       Country  Happiness_Score\n",
      "0       Norway            7.537\n",
      "1      Denmark            7.522\n",
      "2      Iceland            7.504\n",
      "3  Switzerland            7.494\n",
      "4      Finland            7.469\n",
      "\n",
      "\n",
      "       Country  Corruption_Score\n",
      "0      Denmark                88\n",
      "1  New Zealand                87\n",
      "2      Finland                85\n",
      "3    Singapore                85\n",
      "4       Sweden                85\n"
     ]
    }
   ],
   "source": [
    "print(\"Examples of the data that'll be used: \\n\")\n",
    "print(happiness_data[[\"Country\", \"Happiness_Score\"]].head())\n",
    "print(\"\\n\")\n",
    "print(corruption_data[[\"Country\", \"Corruption_Score\"]].head())"
   ]
  },
  {
   "cell_type": "markdown",
   "metadata": {},
   "source": [
    "Below, I'm finding countries that are in all the datasets, since I'll only be using those countries for the project. I used an opposite method of this to find what countries had different names across datasets (i.e. \"Russia\" vs \"Russian Federation\") so I could match them"
   ]
  },
  {
   "cell_type": "code",
   "execution_count": 222,
   "metadata": {},
   "outputs": [
    {
     "name": "stdout",
     "output_type": "stream",
     "text": [
      "149\n"
     ]
    }
   ],
   "source": [
    "# countries that are in all the datasets\n",
    "common_countries = list(reduce(set.intersection, map(set, [happiness_data.Country, human_development_data.Country, \n",
    "                                            corruption_data.Country, co2_emissions_data.Country, gdp_cap_data.Country \n",
    "                                           ])))\n",
    "\n",
    "print(len(common_countries)) # 149 countries that in all datasets (after data preprocessing)"
   ]
  },
  {
   "cell_type": "code",
   "execution_count": 223,
   "metadata": {},
   "outputs": [
    {
     "data": {
      "text/html": [
       "<div>\n",
       "<style scoped>\n",
       "    .dataframe tbody tr th:only-of-type {\n",
       "        vertical-align: middle;\n",
       "    }\n",
       "\n",
       "    .dataframe tbody tr th {\n",
       "        vertical-align: top;\n",
       "    }\n",
       "\n",
       "    .dataframe thead th {\n",
       "        text-align: right;\n",
       "    }\n",
       "</style>\n",
       "<table border=\"1\" class=\"dataframe\">\n",
       "  <thead>\n",
       "    <tr style=\"text-align: right;\">\n",
       "      <th></th>\n",
       "      <th>country</th>\n",
       "      <th>happiness</th>\n",
       "      <th>corruption</th>\n",
       "      <th>co2_emissions</th>\n",
       "      <th>human_development</th>\n",
       "      <th>gdp_cap_ppp</th>\n",
       "    </tr>\n",
       "  </thead>\n",
       "  <tbody>\n",
       "    <tr>\n",
       "      <th>31</th>\n",
       "      <td>Norway</td>\n",
       "      <td>7.537</td>\n",
       "      <td>84</td>\n",
       "      <td>9.270945</td>\n",
       "      <td>0.953</td>\n",
       "      <td>61414.281370</td>\n",
       "    </tr>\n",
       "    <tr>\n",
       "      <th>138</th>\n",
       "      <td>Denmark</td>\n",
       "      <td>7.522</td>\n",
       "      <td>88</td>\n",
       "      <td>5.935712</td>\n",
       "      <td>0.929</td>\n",
       "      <td>51364.144700</td>\n",
       "    </tr>\n",
       "    <tr>\n",
       "      <th>124</th>\n",
       "      <td>Iceland</td>\n",
       "      <td>7.504</td>\n",
       "      <td>76</td>\n",
       "      <td>6.059657</td>\n",
       "      <td>0.935</td>\n",
       "      <td>53152.698894</td>\n",
       "    </tr>\n",
       "    <tr>\n",
       "      <th>114</th>\n",
       "      <td>Switzerland</td>\n",
       "      <td>7.494</td>\n",
       "      <td>85</td>\n",
       "      <td>4.311563</td>\n",
       "      <td>0.944</td>\n",
       "      <td>64712.127503</td>\n",
       "    </tr>\n",
       "    <tr>\n",
       "      <th>33</th>\n",
       "      <td>Finland</td>\n",
       "      <td>7.469</td>\n",
       "      <td>85</td>\n",
       "      <td>8.660721</td>\n",
       "      <td>0.920</td>\n",
       "      <td>44865.840913</td>\n",
       "    </tr>\n",
       "  </tbody>\n",
       "</table>\n",
       "</div>"
      ],
      "text/plain": [
       "         country  happiness  corruption  co2_emissions  human_development  \\\n",
       "31        Norway      7.537          84       9.270945              0.953   \n",
       "138      Denmark      7.522          88       5.935712              0.929   \n",
       "124      Iceland      7.504          76       6.059657              0.935   \n",
       "114  Switzerland      7.494          85       4.311563              0.944   \n",
       "33       Finland      7.469          85       8.660721              0.920   \n",
       "\n",
       "      gdp_cap_ppp  \n",
       "31   61414.281370  \n",
       "138  51364.144700  \n",
       "124  53152.698894  \n",
       "114  64712.127503  \n",
       "33   44865.840913  "
      ]
     },
     "execution_count": 223,
     "metadata": {},
     "output_type": "execute_result"
    }
   ],
   "source": [
    "# merging all the necessary data from all datasets into one dataframe\n",
    "d = []\n",
    "\n",
    "# going through the common countries \n",
    "for country in common_countries:    \n",
    "\n",
    "    #grabbing their data from each dataset\n",
    "    country_dict = {\n",
    "        \"country\": country, \n",
    "        \"happiness\": happiness_data.at[\n",
    "            happiness_data.index[happiness_data['Country'] == country].tolist()[0], \"Happiness_Score\"],\n",
    "        \"corruption\": corruption_data.at[\n",
    "            corruption_data.index[corruption_data['Country'] == country].tolist()[0], \"Corruption_Score\"],\n",
    "        \"human_development\": human_development_data.at[\n",
    "            human_development_data.index[human_development_data['Country'] == country].tolist()[0], \"HDI_Score\"],\n",
    "        \"co2_emissions\": co2_emissions_data.at[\n",
    "            co2_emissions_data.index[co2_emissions_data['Country'] == country].tolist()[0], \"CO2_Emissions\"],\n",
    "        \"gdp_cap_ppp\": gdp_cap_data.at[\n",
    "            gdp_cap_data.index[gdp_cap_data['Country'] == country].tolist()[0], \"GDP_CAP_PPP\"],\n",
    "    }\n",
    "    # adding that country and its data to the list\n",
    "    d.append(country_dict)\n",
    "\n",
    "# creating a dataframe from the dictionary\n",
    "data = pd.DataFrame(d)\n",
    "\n",
    "# changing column order\n",
    "data = data[['country', 'happiness', 'corruption', 'co2_emissions', 'human_development', \"gdp_cap_ppp\"]]\n",
    "data = data.sort_values(by=['happiness'], ascending=False) # ordering dataframe so happiest countries are at the top\n",
    "data.head()"
   ]
  },
  {
   "cell_type": "code",
   "execution_count": 224,
   "metadata": {},
   "outputs": [
    {
     "data": {
      "image/png": "[encoded data removed]",
      "text/plain": [
       "<Figure size 360x360 with 2 Axes>"
      ]
     },
     "metadata": {
      "needs_background": "light"
     },
     "output_type": "display_data"
    }
   ],
   "source": [
    "# making a correlation heatmap for all datapoints\n",
    "corrmat = data.corr()\n",
    "f, ax = plt.subplots(figsize=(5, 5))\n",
    "sns.heatmap(corrmat, robust = True, vmax=.8, vmin = .1, square=True);"
   ]
  },
  {
   "cell_type": "code",
   "execution_count": 226,
   "metadata": {},
   "outputs": [],
   "source": [
    "#normalized_X = preprocessing.normalize([data.loc[:, data.columns != 'country']])"
   ]
  }
 ],
 "metadata": {
  "kernelspec": {
   "display_name": "Python 3",
   "language": "python",
   "name": "python3"
  },
  "language_info": {
   "codemirror_mode": {
    "name": "ipython",
    "version": 3
   },
   "file_extension": ".py",
   "mimetype": "text/x-python",
   "name": "python",
   "nbconvert_exporter": "python",
   "pygments_lexer": "ipython3",
   "version": "3.7.1"
  }
 },
 "nbformat": 4,
 "nbformat_minor": 2
}
