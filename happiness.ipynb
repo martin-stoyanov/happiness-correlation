{
 "cells": [
  {
   "cell_type": "code",
   "execution_count": 2,
   "metadata": {},
   "outputs": [],
   "source": [
    "import numpy as np\n",
    "import pandas as pd"
   ]
  },
  {
   "cell_type": "code",
   "execution_count": 5,
   "metadata": {},
   "outputs": [],
   "source": [
    "happiness = pd.read_csv(\"./datasets/world_happiness_2017.csv\")\n",
    "human_development = pd.read_csv(\"./datasets/hdi.csv\")\n",
    "corruption = pd.read_csv(\"./datasets/corruption_ratings_2018.csv\")\n",
    "co2_emissions = pd.read_csv(\"./datasets/co2_emissions.csv\")\n",
    "gdp_cap = pd.read_csv(\"./datasets/gdp_cap_ppp.csv\")"
   ]
  },
  {
   "cell_type": "code",
   "execution_count": null,
   "metadata": {},
   "outputs": [],
   "source": []
  }
 ],
 "metadata": {
  "kernelspec": {
   "display_name": "Python 3",
   "language": "python",
   "name": "python3"
  },
  "language_info": {
   "codemirror_mode": {
    "name": "ipython",
    "version": 3
   },
   "file_extension": ".py",
   "mimetype": "text/x-python",
   "name": "python",
   "nbconvert_exporter": "python",
   "pygments_lexer": "ipython3",
   "version": "3.7.1"
  }
 },
 "nbformat": 4,
 "nbformat_minor": 2
}
